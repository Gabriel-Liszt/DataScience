{
 "cells": [
  {
   "cell_type": "markdown",
   "id": "93654726",
   "metadata": {},
   "source": [
    "MODULO 1: Introducao ao pandas\n",
    "\n",
    " Vamos cobrir o essencial: carregar dados, inspecioná-los e fazer as primeiras manipulações."
   ]
  },
  {
   "cell_type": "markdown",
   "id": "b10df230",
   "metadata": {},
   "source": [
    "Passo 1: Impotando a biblioteca"
   ]
  },
  {
   "cell_type": "code",
   "execution_count": 6,
   "id": "b82fdf04",
   "metadata": {},
   "outputs": [],
   "source": [
    "#Importando o pandas\n",
    "import pandas as pd"
   ]
  },
  {
   "cell_type": "markdown",
   "id": "8fec8ebb",
   "metadata": {},
   "source": [
    "Passo 2: Carregando os dados\n",
    "\n",
    "Simularei um conjunto de dados sobre pacientes de uma clinica odontologica. Arquivo 001.csv"
   ]
  },
  {
   "cell_type": "code",
   "execution_count": 7,
   "id": "7b1bccd3",
   "metadata": {},
   "outputs": [],
   "source": [
    "# Carregando o arquivo do nosso data frame de exemplo\n",
    "df = pd.read_csv('001.csv')"
   ]
  },
  {
   "cell_type": "markdown",
   "id": "0cfbb8fe",
   "metadata": {},
   "source": [
    "Passo 3: Explorando o data frame\n",
    "\n",
    "Uma vez que os dados estão carregados, a primeira coisa a fazer é inspecioná-los para entender sua estrutura."
   ]
  },
  {
   "cell_type": "code",
   "execution_count": 5,
   "id": "a689a32f",
   "metadata": {},
   "outputs": [
    {
     "name": "stdout",
     "output_type": "stream",
     "text": [
      "Primeiras 5 linhas\n",
      "   ID_Paciente             Nome  Idade Sexo   Tratamento   Valor Data_Consulta\n",
      "0            1       João Silva     25    M      Limpeza   150.0    2025-08-01\n",
      "1            2      Maria Souza     30    F  Clareamento   800.0    2025-08-05\n",
      "2            3     Pedro Santos     45    M        Canal  1200.5    2025-08-08\n",
      "3            4        Ana Costa     22    F     Extração   350.0    2025-08-10\n",
      "4            5  Carlos Ferreira     55    M     Implante  5000.0    2025-08-12\n",
      "Ultimas 5 linhas\n",
      "   ID_Paciente              Nome  Idade Sexo   Tratamento   Valor  \\\n",
      "5            6     Fernanda Lima     33    F      Limpeza   150.0   \n",
      "6            7  Gustavo Oliveira     29    M  Clareamento   800.0   \n",
      "7            8   Sofia Rodrigues     40    F        Canal  1200.5   \n",
      "8            9     Bruno Almeida     28    M     Extração   350.0   \n",
      "9           10    Julia Carvalho     60    F     Implante  5000.0   \n",
      "\n",
      "  Data_Consulta  \n",
      "5    2025-08-15  \n",
      "6    2025-08-18  \n",
      "7    2025-08-20  \n",
      "8    2025-08-22  \n",
      "9    2025-08-25  \n",
      "Info do Data Frame\n",
      "<class 'pandas.core.frame.DataFrame'>\n",
      "RangeIndex: 10 entries, 0 to 9\n",
      "Data columns (total 7 columns):\n",
      " #   Column         Non-Null Count  Dtype  \n",
      "---  ------         --------------  -----  \n",
      " 0   ID_Paciente    10 non-null     int64  \n",
      " 1   Nome           10 non-null     object \n",
      " 2   Idade          10 non-null     int64  \n",
      " 3   Sexo           10 non-null     object \n",
      " 4   Tratamento     10 non-null     object \n",
      " 5   Valor          10 non-null     float64\n",
      " 6   Data_Consulta  10 non-null     object \n",
      "dtypes: float64(1), int64(2), object(4)\n",
      "memory usage: 692.0+ bytes\n",
      "None\n",
      "Estatisticas descritivas\n",
      "       ID_Paciente      Idade        Valor\n",
      "count     10.00000  10.000000    10.000000\n",
      "mean       5.50000  36.700000  1500.100000\n",
      "std        3.02765  12.927576  1884.126688\n",
      "min        1.00000  22.000000   150.000000\n",
      "25%        3.25000  28.250000   350.000000\n",
      "50%        5.50000  31.500000   800.000000\n",
      "75%        7.75000  43.750000  1200.500000\n",
      "max       10.00000  60.000000  5000.000000\n"
     ]
    }
   ],
   "source": [
    "# Mostra as primeiras 5 linhas do df\n",
    "\n",
    "print(\"Primeiras 5 linhas\")\n",
    "print(df.head())\n",
    "\n",
    "# Mostra as ultimas 5 linhas do df\n",
    "print(\"Ultimas 5 linhas\")\n",
    "print(df.tail())\n",
    "\n",
    "# Fornece um resum do DF, incluido tipos de dados\n",
    "print(\"Info do Data Frame\")\n",
    "print(df.info())\n",
    "\n",
    "# Mostra as estatisticas descritivas para colunas numericas\n",
    "print(\"Estatisticas descritivas\")\n",
    "print(df.describe())"
   ]
  },
  {
   "cell_type": "markdown",
   "id": "f1f4ed0b",
   "metadata": {},
   "source": [
    "O que você deve observar na saída:\n",
    "\n",
    "df.head(): Confirma se os dados foram carregados corretamente.\n",
    "\n",
    "df.info(): Mostra quantas linhas (entradas) e colunas existem, e, crucialmente, os tipos de dados de cada coluna (int64, float64, object). Veja que Data_Consulta é do tipo object (texto), algo que precisaremos tratar no futuro.\n",
    "\n",
    "df.describe(): Dá uma visão rápida sobre as colunas numéricas, mostrando a contagem, média, desvio padrão, mínimo e máximo."
   ]
  },
  {
   "cell_type": "markdown",
   "id": "755870b0",
   "metadata": {},
   "source": [
    "Passo 4: Selecionando Colunas e Linhas\n",
    "\n",
    "A seleção de dados é uma das operações mais comuns."
   ]
  },
  {
   "cell_type": "code",
   "execution_count": 8,
   "id": "2f89deb8",
   "metadata": {},
   "outputs": [
    {
     "name": "stdout",
     "output_type": "stream",
     "text": [
      "\n",
      " Coluna de nomes\n",
      "0          João Silva\n",
      "1         Maria Souza\n",
      "2        Pedro Santos\n",
      "3           Ana Costa\n",
      "4     Carlos Ferreira\n",
      "5       Fernanda Lima\n",
      "6    Gustavo Oliveira\n",
      "7     Sofia Rodrigues\n",
      "8       Bruno Almeida\n",
      "9      Julia Carvalho\n",
      "Name: Nome, dtype: object\n",
      "Imprimindo nome, idade e tratamento do paciente\n",
      "               Nome  Idade   Tratamento\n",
      "0        João Silva     25      Limpeza\n",
      "1       Maria Souza     30  Clareamento\n",
      "2      Pedro Santos     45        Canal\n",
      "3         Ana Costa     22     Extração\n",
      "4   Carlos Ferreira     55     Implante\n",
      "5     Fernanda Lima     33      Limpeza\n",
      "6  Gustavo Oliveira     29  Clareamento\n",
      "7   Sofia Rodrigues     40        Canal\n",
      "8     Bruno Almeida     28     Extração\n",
      "9    Julia Carvalho     60     Implante\n",
      "Dados do primeiro paciente\n",
      "ID_Paciente               1\n",
      "Nome             João Silva\n",
      "Idade                    25\n",
      "Sexo                      M\n",
      "Tratamento          Limpeza\n",
      "Valor                 150.0\n",
      "Data_Consulta    2025-08-01\n",
      "Name: 0, dtype: object\n"
     ]
    }
   ],
   "source": [
    "# Selecionando uma unica coluna(resultado é uma Series)\n",
    "nome_pacientes = df['Nome']\n",
    "print('\\n Coluna de nomes')\n",
    "print(nome_pacientes)\n",
    "\n",
    "# Selecionando multiplas colunas (resultado é um novo DataFrame)\n",
    "dados_basicos = df[['Nome', 'Idade', 'Tratamento']]\n",
    "print('Imprimindo nome, idade e tratamento do paciente')\n",
    "print(dados_basicos)\n",
    "\n",
    "# Selecionando a primeira linha\n",
    "primeiro_paciente = df.iloc[0]\n",
    "print(\"Dados do primeiro paciente\")\n",
    "print(primeiro_paciente)"
   ]
  },
  {
   "cell_type": "markdown",
   "id": "be267cb6",
   "metadata": {},
   "source": [
    "Passo 5: Filtragem de dados\n",
    "\n",
    "Filtrar dados é como usar um filtro do excel para encontrar um subconjunto de dados que atende a uma condicao"
   ]
  },
  {
   "cell_type": "code",
   "execution_count": 9,
   "id": "72d64fe0",
   "metadata": {},
   "outputs": [
    {
     "name": "stdout",
     "output_type": "stream",
     "text": [
      "Pacientes do sexo feminino\n",
      "   ID_Paciente             Nome  Idade Sexo   Tratamento   Valor Data_Consulta\n",
      "1            2      Maria Souza     30    F  Clareamento   800.0    2025-08-05\n",
      "3            4        Ana Costa     22    F     Extração   350.0    2025-08-10\n",
      "5            6    Fernanda Lima     33    F      Limpeza   150.0    2025-08-15\n",
      "7            8  Sofia Rodrigues     40    F        Canal  1200.5    2025-08-20\n",
      "9           10   Julia Carvalho     60    F     Implante  5000.0    2025-08-25\n",
      "Pacientes do sexo masculino\n",
      "   ID_Paciente              Nome  Idade Sexo   Tratamento   Valor  \\\n",
      "0            1        João Silva     25    M      Limpeza   150.0   \n",
      "2            3      Pedro Santos     45    M        Canal  1200.5   \n",
      "4            5   Carlos Ferreira     55    M     Implante  5000.0   \n",
      "6            7  Gustavo Oliveira     29    M  Clareamento   800.0   \n",
      "8            9     Bruno Almeida     28    M     Extração   350.0   \n",
      "\n",
      "  Data_Consulta  \n",
      "0    2025-08-01  \n",
      "2    2025-08-08  \n",
      "4    2025-08-12  \n",
      "6    2025-08-18  \n",
      "8    2025-08-22  \n",
      "Paciente com mais de 30 anos de idade\n",
      "   ID_Paciente             Nome  Idade Sexo Tratamento   Valor Data_Consulta\n",
      "2            3     Pedro Santos     45    M      Canal  1200.5    2025-08-08\n",
      "4            5  Carlos Ferreira     55    M   Implante  5000.0    2025-08-12\n",
      "5            6    Fernanda Lima     33    F    Limpeza   150.0    2025-08-15\n",
      "7            8  Sofia Rodrigues     40    F      Canal  1200.5    2025-08-20\n",
      "9           10   Julia Carvalho     60    F   Implante  5000.0    2025-08-25\n"
     ]
    }
   ],
   "source": [
    "# Filtrando pacientes do sexo feminino\n",
    "Pacientes_f = df[df['Sexo'] == 'F']\n",
    "print(\"Pacientes do sexo feminino\")\n",
    "print(Pacientes_f)\n",
    "\n",
    "# Filtrando pacientes do sexo masculino\n",
    "paciente_m = df[df['Sexo'] == 'M']\n",
    "print(\"Pacientes do sexo masculino\")\n",
    "print(paciente_m)\n",
    "\n",
    "# Filtrando pacientes com mais de 30 anos\n",
    "pacientesAcima30 = df[df['Idade'] > 30]\n",
    "print(\"Paciente com mais de 30 anos de idade\")\n",
    "print(pacientesAcima30)\n"
   ]
  }
 ],
 "metadata": {
  "kernelspec": {
   "display_name": "Python 3",
   "language": "python",
   "name": "python3"
  },
  "language_info": {
   "codemirror_mode": {
    "name": "ipython",
    "version": 3
   },
   "file_extension": ".py",
   "mimetype": "text/x-python",
   "name": "python",
   "nbconvert_exporter": "python",
   "pygments_lexer": "ipython3",
   "version": "3.13.7"
  }
 },
 "nbformat": 4,
 "nbformat_minor": 5
}
