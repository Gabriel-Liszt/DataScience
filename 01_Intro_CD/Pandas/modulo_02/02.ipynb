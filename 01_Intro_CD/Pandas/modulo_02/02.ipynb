{
 "cells": [
  {
   "cell_type": "markdown",
   "id": "71ed1e8e",
   "metadata": {},
   "source": [
    "## Modulo 2: Limpeza e preparacao dos dados\n",
    "\n",
    "No mundo real, os dados raramente vêm prontos para análise. Eles podem ter valores ausentes, tipos de dados incorretos ou formatos que dificultam o trabalho.\n",
    "\n",
    "# Vamos cobrir:\n",
    "\n",
    "1. Identificar e lidar com valores ausentes.\n",
    "2. Converter tipos de dados de colunas\n",
    "3. Renomear colunas para nomes mais intuitivos\n",
    "\n",
    "\n",
    "# Pass 1: Carregando o arquivo"
   ]
  },
  {
   "cell_type": "code",
   "execution_count": 40,
   "id": "1cc07fec",
   "metadata": {},
   "outputs": [
    {
     "name": "stdout",
     "output_type": "stream",
     "text": [
      "Verificando se o df foi carregado corretamente\n",
      "   ID_Paciente             Nome         Idade Sexo Tratamento    Valor  \\\n",
      "0            1       João Silva            25    M    Limpeza   150.00   \n",
      "1            2      Maria Souza            30    F        NaN   800.00   \n",
      "2            3     Pedro Santos            45    M      Canal  1200.50   \n",
      "3            4        Ana Costa  Vinte e dois    F   Extração   350.00   \n",
      "4            5  Carlos Ferreira            55    M   Implante      NaN   \n",
      "\n",
      "   Data_Exame  \n",
      "0  2025-08-01  \n",
      "1  2025-08-05  \n",
      "2  2025-08-08  \n",
      "3  2025-08-10  \n",
      "4  2025-08-12  \n"
     ]
    }
   ],
   "source": [
    "import pandas as pd\n",
    "import numpy as np\n",
    "\n",
    "df_paciente = pd.read_csv('002.csv', decimal = ',') \n",
    "print(\"Verificando se o df foi carregado corretamente\")\n",
    "print(df_paciente.head())"
   ]
  },
  {
   "cell_type": "markdown",
   "id": "5f6b2d58",
   "metadata": {},
   "source": [
    "# Passo 2: Lidando com dados ausentes\n",
    "\n",
    "Valores ausentes (representados por NaN no Pandas) podem atrapalhar nossos cálculos e análises. "
   ]
  },
  {
   "cell_type": "code",
   "execution_count": 42,
   "id": "240ea340",
   "metadata": {},
   "outputs": [
    {
     "name": "stdout",
     "output_type": "stream",
     "text": [
      "Contagem de NaN em cada coluna\n",
      "ID_Paciente    0\n",
      "Nome           0\n",
      "Idade          0\n",
      "Sexo           0\n",
      "Tratamento     0\n",
      "Valor          1\n",
      "Data_Exame     0\n",
      "dtype: int64\n",
      "DF apos remover as linhas com valores nuls na coluna 'Tratament'\n",
      "   ID_Paciente              Nome         Idade Sexo   Tratamento    Valor  \\\n",
      "0            1        João Silva            25    M      Limpeza   150.00   \n",
      "2            3      Pedro Santos            45    M        Canal  1200.50   \n",
      "3            4         Ana Costa  Vinte e dois    F     Extração   350.00   \n",
      "4            5   Carlos Ferreira            55    M     Implante      NaN   \n",
      "5            6     Fernanda Lima            33    F      Limpeza   150.00   \n",
      "6            7  Gustavo Oliveira            29    M  Clareamento   800.00   \n",
      "7            8   Sofia Rodrigues            40    F        Canal  1200.50   \n",
      "8            9     Bruno Almeida            28    M     Extração   350.00   \n",
      "9           10    Julia Carvalho            60    F     Implante  5000.00   \n",
      "\n",
      "   Data_Exame  \n",
      "0  2025-08-01  \n",
      "2  2025-08-08  \n",
      "3  2025-08-10  \n",
      "4  2025-08-12  \n",
      "5  2025-08-15  \n",
      "6  2025-08-18  \n",
      "7  2025-08-20  \n",
      "8  2025-08-22  \n",
      "9  2025-08-25  \n",
      "\n",
      "DataFrame após preencher nulos com a média:\n",
      "   ID_Paciente              Nome         Idade Sexo   Tratamento     Valor  \\\n",
      "0            1        João Silva            25    M      Limpeza   150.000   \n",
      "2            3      Pedro Santos            45    M        Canal  1200.500   \n",
      "3            4         Ana Costa  Vinte e dois    F     Extração   350.000   \n",
      "4            5   Carlos Ferreira            55    M     Implante  1150.125   \n",
      "5            6     Fernanda Lima            33    F      Limpeza   150.000   \n",
      "6            7  Gustavo Oliveira            29    M  Clareamento   800.000   \n",
      "7            8   Sofia Rodrigues            40    F        Canal  1200.500   \n",
      "8            9     Bruno Almeida            28    M     Extração   350.000   \n",
      "9           10    Julia Carvalho            60    F     Implante  5000.000   \n",
      "\n",
      "   Data_Exame  \n",
      "0  2025-08-01  \n",
      "2  2025-08-08  \n",
      "3  2025-08-10  \n",
      "4  2025-08-12  \n",
      "5  2025-08-15  \n",
      "6  2025-08-18  \n",
      "7  2025-08-20  \n",
      "8  2025-08-22  \n",
      "9  2025-08-25  \n",
      "\n",
      "Verificando a nova contagem de valores nulos:\n",
      "ID_Paciente    0\n",
      "Nome           0\n",
      "Idade          0\n",
      "Sexo           0\n",
      "Tratamento     0\n",
      "Valor          0\n",
      "Data_Exame     0\n",
      "dtype: int64\n"
     ]
    },
    {
     "name": "stderr",
     "output_type": "stream",
     "text": [
      "C:\\Users\\gabri\\AppData\\Local\\Temp\\ipykernel_16112\\1999323584.py:17: FutureWarning: A value is trying to be set on a copy of a DataFrame or Series through chained assignment using an inplace method.\n",
      "The behavior will change in pandas 3.0. This inplace method will never work because the intermediate object on which we are setting values always behaves as a copy.\n",
      "\n",
      "For example, when doing 'df[col].method(value, inplace=True)', try using 'df.method({col: value}, inplace=True)' or df[col] = df[col].method(value) instead, to perform the operation inplace on the original object.\n",
      "\n",
      "\n",
      "  df_paciente['Valor'].fillna(media_valor, inplace=True)\n"
     ]
    }
   ],
   "source": [
    "# Substituindo strings vazias por NaN\n",
    "#df_paciente.replace('', np.nan, inplace=True)\n",
    "\n",
    "# Contando a quantidade de valores nulos em cada coluna\n",
    "print(\"Contagem de NaN em cada coluna\")\n",
    "print(df_paciente.isnull().sum())\n",
    "\n",
    "# Removendo a linha com valores ausentes na coluna tratamento\n",
    "df_paciente.dropna(subset=['Tratamento'], inplace=True)\n",
    "print(\"DF apos remover as linhas com valores nuls na coluna 'Tratament'\")\n",
    "print(df_paciente)\n",
    "\n",
    "# Preenchendo o valor ausente na coluna 'Valor' com a média dos valores existentes.\n",
    "# Primeiro, precisamos corrigir a coluna 'Valor' antes de calcular a média.\n",
    "df_paciente['Valor'] = df_paciente['Valor'].astype(float)\n",
    "media_valor = df_paciente['Valor'].mean()\n",
    "df_paciente['Valor'].fillna(media_valor, inplace=True)\n",
    "print(\"\\nDataFrame após preencher nulos com a média:\")\n",
    "print(df_paciente)\n",
    "print(\"\\nVerificando a nova contagem de valores nulos:\")\n",
    "print(df_paciente.isnull().sum())\n"
   ]
  }
 ],
 "metadata": {
  "kernelspec": {
   "display_name": "Python 3",
   "language": "python",
   "name": "python3"
  },
  "language_info": {
   "codemirror_mode": {
    "name": "ipython",
    "version": 3
   },
   "file_extension": ".py",
   "mimetype": "text/x-python",
   "name": "python",
   "nbconvert_exporter": "python",
   "pygments_lexer": "ipython3",
   "version": "3.13.7"
  }
 },
 "nbformat": 4,
 "nbformat_minor": 5
}
